{
 "cells": [
  {
   "cell_type": "code",
   "execution_count": 1,
   "metadata": {
    "collapsed": true
   },
   "outputs": [],
   "source": [
    "import matplotlib.pyplot as plt\n",
    "plt.style.use('seaborn-colorblind')\n",
    "%matplotlib inline\n",
    "\n",
    "import pyoz as oz"
   ]
  },
  {
   "cell_type": "code",
   "execution_count": 2,
   "metadata": {
    "collapsed": false
   },
   "outputs": [],
   "source": [
    "sig = 1\n",
    "eps = 1\n",
    "wca_ref = oz.System()\n",
    "r = wca_ref.r\n",
    "# The purely repulsive reference system for the Lennard-Jones potential.\n",
    "wca_ref.set_interaction(0, 0, oz.wca(r, eps=eps, sig=sig, m=12, n=6))\n",
    "\n",
    "lj = oz.System()\n",
    "# The actual system that we want to solve for.\n",
    "lj.set_interaction(0, 0, oz.lennard_jones(r, eps=eps, sig=eps))"
   ]
  },
  {
   "cell_type": "code",
   "execution_count": 3,
   "metadata": {
    "collapsed": false
   },
   "outputs": [
    {
     "name": "stderr",
     "output_type": "stream",
     "text": [
      "[INFO][2016-10-03 11:31:19,338] Converged in 1.76s after 12 iterations\n",
      "[INFO][2016-10-03 11:31:19,360] Converged in 0.01s after 11 iterations\n"
     ]
    }
   ],
   "source": [
    "# To solve this using the reference hyper-netted chain closure,\n",
    "# pass the reference system as an additional argument to `solve`.\n",
    "g_r, _, _, _ = lj.solve(rhos=0.01, closure_name='RHNC', reference_system=wca_ref)"
   ]
  },
  {
   "cell_type": "code",
   "execution_count": 4,
   "metadata": {
    "collapsed": false
   },
   "outputs": [
    {
     "data": {
      "text/plain": [
       "(0, 10)"
      ]
     },
     "execution_count": 4,
     "metadata": {},
     "output_type": "execute_result"
    },
    {
     "data": {
      "image/png": "[encoded data removed]",
      "text/plain": [
       "<matplotlib.figure.Figure at 0x10f0bc860>"
      ]
     },
     "metadata": {},
     "output_type": "display_data"
    }
   ],
   "source": [
    "plt.plot(r, g_r[0, 0])\n",
    "plt.xlabel('r')\n",
    "plt.ylabel('g(r)')\n",
    "plt.xlim(0, 10)"
   ]
  },
  {
   "cell_type": "code",
   "execution_count": null,
   "metadata": {
    "collapsed": false
   },
   "outputs": [],
   "source": []
  },
  {
   "cell_type": "code",
   "execution_count": null,
   "metadata": {
    "collapsed": false
   },
   "outputs": [],
   "source": []
  },
  {
   "cell_type": "code",
   "execution_count": null,
   "metadata": {
    "collapsed": true
   },
   "outputs": [],
   "source": []
  }
 ],
 "metadata": {
  "anaconda-cloud": {},
  "kernelspec": {
   "display_name": "Python [conda env:pyoz]",
   "language": "python",
   "name": "conda-env-pyoz-py"
  },
  "language_info": {
   "codemirror_mode": {
    "name": "ipython",
    "version": 3
   },
   "file_extension": ".py",
   "mimetype": "text/x-python",
   "name": "python",
   "nbconvert_exporter": "python",
   "pygments_lexer": "ipython3",
   "version": "3.5.2"
  }
 },
 "nbformat": 4,
 "nbformat_minor": 1
}
