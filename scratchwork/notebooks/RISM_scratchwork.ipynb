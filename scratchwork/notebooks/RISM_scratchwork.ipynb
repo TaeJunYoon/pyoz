{
 "cells": [
  {
   "cell_type": "code",
   "execution_count": 1,
   "metadata": {
    "collapsed": true
   },
   "outputs": [],
   "source": [
    "import numpy as np"
   ]
  },
  {
   "cell_type": "code",
   "execution_count": 42,
   "metadata": {
    "collapsed": false
   },
   "outputs": [
    {
     "data": {
      "text/plain": [
       "array([[[ 0.14159525,  0.73824423,  0.81695941,  0.96853873,  0.49246711],\n",
       "        [ 0.0187135 ,  0.77431679,  0.25486452,  0.62880819,  0.83087174]],\n",
       "\n",
       "       [[ 0.96616839,  0.17705455,  0.9711525 ,  0.79647062,  0.24038205],\n",
       "        [ 0.58441493,  0.79385599,  0.78551717,  0.33428399,  0.50098128]]])"
      ]
     },
     "execution_count": 42,
     "metadata": {},
     "output_type": "execute_result"
    }
   ],
   "source": [
    "a = np.random.random((2, 2, 5))\n",
    "b = np.random.random((2, 2, 5))\n",
    "ones = np.ones((2, 2, 5))\n",
    "b"
   ]
  },
  {
   "cell_type": "code",
   "execution_count": 43,
   "metadata": {
    "collapsed": false
   },
   "outputs": [
    {
     "data": {
      "text/plain": [
       "array([[[ 1.10776364,  0.91529877,  1.78811192,  1.76500935,  0.73284916],\n",
       "        [ 0.60312843,  1.56817278,  1.04038169,  0.96309219,  1.33185302]],\n",
       "\n",
       "       [[ 1.10776364,  0.91529877,  1.78811192,  1.76500935,  0.73284916],\n",
       "        [ 0.60312843,  1.56817278,  1.04038169,  0.96309219,  1.33185302]]])"
      ]
     },
     "execution_count": 43,
     "metadata": {},
     "output_type": "execute_result"
    }
   ],
   "source": [
    "c = np.empty((2, 2, 5))\n",
    "for n in range(5):\n",
    "#     c[:, :, n] = np.dot(a[:, :, n], b[:, :, n])\n",
    "    c[:, :, n] = np.dot(ones[:, :, n], b[:, :, n])\n",
    "c"
   ]
  },
  {
   "cell_type": "code",
   "execution_count": 36,
   "metadata": {
    "collapsed": false
   },
   "outputs": [
    {
     "data": {
      "text/plain": [
       "array([[[ 0.95686674,  0.48979935,  0.61127754,  0.51396307,  0.3766321 ],\n",
       "        [ 0.7308474 ,  0.93147728,  0.44687595,  0.20123004,  0.68640293]],\n",
       "\n",
       "       [[ 0.30005554,  0.39550669,  0.49411785,  0.38816337,  0.10580218],\n",
       "        [ 0.22459477,  0.76380396,  0.38007152,  0.17289449,  0.22800926]]])"
      ]
     },
     "execution_count": 36,
     "metadata": {},
     "output_type": "execute_result"
    }
   ],
   "source": [
    "np.einsum('ij,jk->ik', a[:, :, 0], b[:, :, 0])\n",
    "np.einsum('ij...,jk...->ik...', a, b)"
   ]
  },
  {
   "cell_type": "code",
   "execution_count": null,
   "metadata": {
    "collapsed": false
   },
   "outputs": [],
   "source": []
  },
  {
   "cell_type": "code",
   "execution_count": null,
   "metadata": {
    "collapsed": true
   },
   "outputs": [],
   "source": []
  }
 ],
 "metadata": {
  "anaconda-cloud": {},
  "kernelspec": {
   "display_name": "Python [conda env:pyoz]",
   "language": "python",
   "name": "conda-env-pyoz-py"
  },
  "language_info": {
   "codemirror_mode": {
    "name": "ipython",
    "version": 3
   },
   "file_extension": ".py",
   "mimetype": "text/x-python",
   "name": "python",
   "nbconvert_exporter": "python",
   "pygments_lexer": "ipython3",
   "version": "3.5.2"
  }
 },
 "nbformat": 4,
 "nbformat_minor": 1
}
