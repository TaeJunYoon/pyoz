{
 "cells": [
  {
   "cell_type": "code",
   "execution_count": 133,
   "metadata": {
    "collapsed": true
   },
   "outputs": [],
   "source": [
    "%matplotlib inline\n",
    "import math\n",
    "import numpy as np\n",
    "from numpy import exp, pi\n",
    "import pickle\n",
    "import matplotlib.pyplot as plt"
   ]
  },
  {
   "cell_type": "code",
   "execution_count": 197,
   "metadata": {
    "collapsed": true
   },
   "outputs": [],
   "source": [
    "from scipy.integrate import simps\n",
    "from scipy.special import cbrt\n",
    "from scipy.stats import linregress\n",
    "\n",
    "import pyoz as oz"
   ]
  },
  {
   "cell_type": "code",
   "execution_count": 205,
   "metadata": {
    "collapsed": false
   },
   "outputs": [],
   "source": [
    "def potential(r, e, m):\n",
    "    SR = oz.wca(r=r, eps=e, sig=1, m=m, n=m/2)\n",
    "    total = oz.mie(r=r, eps=e, sig=1, m=m, n=m/2)\n",
    "    return SR, total\n",
    "\n",
    "def sig_eff(r, U_rep):\n",
    "    return simps(y=1 - exp(-U_rep), x=r)\n",
    "\n",
    "def B2_star(r, U_rep, U):\n",
    "    s = sig_eff(r, U_rep)\n",
    "    B2 = calc_B2(r, U)\n",
    "    return B2 / (2/3 * np.pi * s**3)\n",
    "\n",
    "def calc_B2(r, U):\n",
    "    return 2 * pi * simps(y=(1 - exp(-U)) * r**2, x=r)\n",
    "\n",
    "def calc_R(B2_star, eps):\n",
    "#     l = cbrt((B2_star - 1) / (1 - exp(eps)) + 1)\n",
    "    l = ((B2_star - 1) / (1 - exp(eps)) + 1)**(1/3)\n",
    "    return l - 1"
   ]
  },
  {
   "cell_type": "code",
   "execution_count": 206,
   "metadata": {
    "collapsed": false
   },
   "outputs": [],
   "source": [
    "dr = 0.001\n",
    "r = np.arange(dr, 100+dr, dr)"
   ]
  },
  {
   "cell_type": "code",
   "execution_count": 207,
   "metadata": {
    "collapsed": false
   },
   "outputs": [],
   "source": [
    "epsilons = np.arange(0.5, 5, 0.5)\n",
    "ms = range(12, 97, 12)\n",
    "data = list()\n",
    "for m in ms:\n",
    "    m_data = []\n",
    "    for eps in epsilons:\n",
    "        SR, total = potential(r, e=eps, m=m)\n",
    "        B2s = B2_star(r, U_rep=SR, U=total)\n",
    "        B2 = calc_B2(r, U=total)\n",
    "        R = calc_R(B2s, eps)\n",
    "        m_data.append(R)\n",
    "    data.append(m_data)"
   ]
  },
  {
   "cell_type": "code",
   "execution_count": null,
   "metadata": {
    "collapsed": false
   },
   "outputs": [],
   "source": []
  },
  {
   "cell_type": "code",
   "execution_count": null,
   "metadata": {
    "collapsed": false
   },
   "outputs": [],
   "source": []
  },
  {
   "cell_type": "code",
   "execution_count": null,
   "metadata": {
    "collapsed": true
   },
   "outputs": [],
   "source": []
  },
  {
   "cell_type": "code",
   "execution_count": 208,
   "metadata": {
    "collapsed": false
   },
   "outputs": [
    {
     "data": {
      "text/plain": [
       "<matplotlib.legend.Legend at 0x119759320>"
      ]
     },
     "execution_count": 208,
     "metadata": {},
     "output_type": "execute_result"
    },
    {
     "data": {
      "image/png": "[encoded data removed]",
      "text/plain": [
       "<matplotlib.figure.Figure at 0x119759588>"
      ]
     },
     "metadata": {},
     "output_type": "display_data"
    }
   ],
   "source": [
    "T_thresh = dict()\n",
    "colors = ['r', 'g', 'b', 'y', 'k', 'm', 'c', 'r']\n",
    "markers = ['o', 'v', '^', '>', '8', 'D', 'H', 'x']\n",
    "for color, Rs, m in zip(colors, data, ms):     \n",
    "#     r, b2 = Rs\n",
    "#     plt.plot(epsilons, b2)\n",
    "    p = np.polyfit(Rs, 1/epsilons, 2)\n",
    "    \n",
    "    plt.plot(1/epsilons, Rs, color=color, marker='o', lw=0, label=m)\n",
    "    plt.plot(np.polyval(p, Rs), Rs, color=color, lw=0.5)\n",
    "\n",
    "    threshold = 0.14\n",
    "    T_thresh[m] = np.polyval(p, threshold)\n",
    "    plt.axhline(y=threshold, color='k', ls='--')\n",
    "\n",
    "plt.xlabel('T*')\n",
    "plt.ylabel('R')\n",
    "# plt.yscale('log')\n",
    "handles, labels = plt.gca().get_legend_handles_labels()\n",
    "from collections import OrderedDict\n",
    "by_label = OrderedDict(zip(labels, handles))\n",
    "plt.legend(by_label.values(), by_label.keys(), bbox_to_anchor=(1.3, 1.0))     "
   ]
  },
  {
   "cell_type": "code",
   "execution_count": 194,
   "metadata": {
    "collapsed": false
   },
   "outputs": [
    {
     "data": {
      "text/plain": [
       "{12: 0.28307013795251401,\n",
       " 24: 0.65369266377065005,\n",
       " 36: 1.4419430047947797,\n",
       " 48: 2.6297064372205217,\n",
       " 60: 4.2176320995545931,\n",
       " 72: 6.2146001952083836,\n",
       " 84: 8.6331976018761321,\n",
       " 96: 11.488016684364478}"
      ]
     },
     "execution_count": 194,
     "metadata": {},
     "output_type": "execute_result"
    }
   ],
   "source": [
    "T_thresh"
   ]
  },
  {
   "cell_type": "code",
   "execution_count": 191,
   "metadata": {
    "collapsed": false
   },
   "outputs": [
    {
     "data": {
      "text/plain": [
       "(0, 3)"
      ]
     },
     "execution_count": 191,
     "metadata": {},
     "output_type": "execute_result"
    },
    {
     "data": {
      "image/png": "[encoded data removed]",
      "text/plain": [
       "<matplotlib.figure.Figure at 0x117903780>"
      ]
     },
     "metadata": {},
     "output_type": "display_data"
    }
   ],
   "source": [
    "m=12\n",
    "SR, SA = potential(r, 1, m)\n",
    "plt.plot(r, SR + SA, label=1)\n",
    "m=12\n",
    "SR, SA = potential(r, 0.5, m)\n",
    "plt.plot(r, SR + SA, label=0.5)\n",
    "plt.legend()\n",
    "plt.ylim(-2, 2)\n",
    "plt.xlim(0, 3)"
   ]
  },
  {
   "cell_type": "code",
   "execution_count": null,
   "metadata": {
    "collapsed": false
   },
   "outputs": [],
   "source": []
  },
  {
   "cell_type": "code",
   "execution_count": null,
   "metadata": {
    "collapsed": true
   },
   "outputs": [],
   "source": []
  },
  {
   "cell_type": "code",
   "execution_count": null,
   "metadata": {
    "collapsed": true
   },
   "outputs": [],
   "source": []
  },
  {
   "cell_type": "code",
   "execution_count": null,
   "metadata": {
    "collapsed": true
   },
   "outputs": [],
   "source": []
  },
  {
   "cell_type": "code",
   "execution_count": null,
   "metadata": {
    "collapsed": true
   },
   "outputs": [],
   "source": []
  }
 ],
 "metadata": {
  "anaconda-cloud": {},
  "kernelspec": {
   "display_name": "Python [conda env:pyoz]",
   "language": "python",
   "name": "conda-env-pyoz-py"
  },
  "language_info": {
   "codemirror_mode": {
    "name": "ipython",
    "version": 3
   },
   "file_extension": ".py",
   "mimetype": "text/x-python",
   "name": "python",
   "nbconvert_exporter": "python",
   "pygments_lexer": "ipython3",
   "version": "3.5.2"
  }
 },
 "nbformat": 4,
 "nbformat_minor": 0
}
