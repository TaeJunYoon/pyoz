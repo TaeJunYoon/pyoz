{
 "cells": [
  {
   "cell_type": "code",
   "execution_count": 1,
   "metadata": {
    "collapsed": false
   },
   "outputs": [],
   "source": [
    "import numpy as np\n",
    "import matplotlib.pyplot as plt\n",
    "import seaborn as sns\n",
    "\n",
    "from pyoz.potentials import soft_depletion\n",
    "import pyoz.unit as u\n",
    "\n",
    "sns.set_style('whitegrid', {'xtick.major.size': 5,\n",
    "                            'xtick.labelsize': 'large',\n",
    "                            'ytick.major.size': 5,\n",
    "                            'ytick.labelsize': 'large',\n",
    "                            'axes.edgecolor': 'k',\n",
    "                            'font.weight': 'bold',\n",
    "                            'axes.labelsize': 'large',\n",
    "})\n",
    "params = {'mathtext.default': 'regular' }\n",
    "plt.rcParams.update(params)\n",
    "plt.style.use('seaborn-colorblind')\n",
    "\n",
    "%matplotlib inline"
   ]
  },
  {
   "cell_type": "code",
   "execution_count": 2,
   "metadata": {
    "collapsed": false
   },
   "outputs": [
    {
     "data": {
      "image/png": "[encoded data removed]",
      "text/plain": [
       "<matplotlib.figure.Figure at 0x11962e9b0>"
      ]
     },
     "metadata": {},
     "output_type": "display_data"
    }
   ],
   "source": [
    "sig_d = 2\n",
    "n = 36\n",
    "h = 1.01818\n",
    "\n",
    "r = np.arange(0, 15, 0.01)\n",
    "\n",
    "plt.title(r'$\\sigma_{depl} = 2$')\n",
    "\n",
    "sig_c = 2.2\n",
    "sig_d = 1.0\n",
    "rho_d = 0.0\n",
    "U = soft_depletion(r, eps=1, sig_c=sig_c, sig_d=sig_d, n=n, rho_d=rho_d)\n",
    "plt.plot(r, U, label=r'$\\sigma_{coll} = 5$')\n",
    "\n",
    "# sig_c = 8\n",
    "# U = soft_depletion(r, eps=1, sig_c=sig_c, sig_d=sig_d, n=n, rho_d=rho_d)\n",
    "# plt.plot(r, U, label=r'$\\sigma_{coll} = 8$')\n",
    "\n",
    "# sig_c  = 10\n",
    "# U = soft_depletion(r, eps=1, sig_c=sig_c, sig_d=sig_d, n=n, rho_d=rho_d)\n",
    "# plt.plot(r, U, label=r'$\\sigma_{coll} = 10$')\n",
    "\n",
    "plt.xlim(0, sig_c*5)\n",
    "plt.ylim(U.min()-1, 1)\n",
    "\n",
    "plt.xlabel('r, distance', fontsize=20)\n",
    "plt.ylabel('U(r), energy', fontsize=20)\n",
    "\n",
    "plt.legend(loc='best')\n",
    "plt.savefig('depl.pdf', bbox_inches='tight')"
   ]
  },
  {
   "cell_type": "code",
   "execution_count": 3,
   "metadata": {
    "collapsed": false
   },
   "outputs": [],
   "source": [
    "y = [4.18, 3.95, 3.75, 3.72, 3.7, 3.67, 3.64, 3.63, 3.64, 4.4, 4.4]"
   ]
  },
  {
   "cell_type": "code",
   "execution_count": 4,
   "metadata": {
    "collapsed": true
   },
   "outputs": [],
   "source": [
    "def number_densities(SiO2_wt_perc):\n",
    "    # SiO2_mol_wt = 60.08 * u.gram / u.mole\n",
    "    # rho_solution = 1 * u.gram / u.centimeter**3\n",
    "    # colloid_rho = rho_solution * (SiO2_wt_perc/100) / SiO2_mol_wt * Na\n",
    "    solution_density = 1\n",
    "\n",
    "    # sol_dens = () / (() + ())\n",
    "    return 6 / np.pi * (SiO2_wt_perc / 100) / (2.65 / solution_density)\n",
    "\n",
    "\n",
    "def LR_parameters(colloid_diameter, NaCl_wt_perc, Z):\n",
    "    NaCl_mol_wt = 58.44 * u.gram / u.mole\n",
    "    rho_solution = 1 * u.gram / u.centimeter**3\n",
    "\n",
    "    # NaCl_conc = NaCl_wt_perc * 10.0 / NaCl_mol_wt  # mol/Liter\n",
    "    # NaCl_conc = rho_solution * (NaCl_wt_perc/100) / NaCl_mol_wt\n",
    "    NaCl_conc = (NaCl_wt_perc/100) *10 / 58.4\n",
    "    # ionic_strength = NaCl_conc.value_in_unit(u.moles / u.liter)\n",
    "\n",
    "    # lambda_d = 0.304 / np.sqrt(ionic_strength) * u.nanometers\n",
    "    lambda_d = 0.304 / np.sqrt(NaCl_conc) * u.nanometers\n",
    "    lambda_b = 0.70 * u.nanometers\n",
    "\n",
    "\n",
    "    l_debye = lambda_d / colloid_diameter  # Reduced units\n",
    "    l_bjerrum = lambda_b / colloid_diameter  # Reduced units\n",
    "\n",
    "\n",
    "    # Charge density of glass is given for a few different pH values:\n",
    "    # http://physics.nyu.edu/grierlab/charge6c/\n",
    "    q_density = Z * u.elementary_charge / u.micrometers**2\n",
    "    colloid_area = np.pi * colloid_diameter**2\n",
    "    colloid_q = q_density * colloid_area\n",
    "\n",
    "    #Equation 4: Bollinger, 2016 paper.\n",
    "    # A/kT actually\n",
    "    A = colloid_q**2 * l_bjerrum / (1 + 0.50 / l_debye)**2\n",
    "\n",
    "    # TODO: Is there another unit reduction necessary here?\n",
    "    A = A.value_in_unit(u.elementary_charge**2)\n",
    "    return A, l_debye\n",
    "\n",
    "\n",
    "def SALR(r, eps, m, n, A, l_debye):\n",
    "    SR = 4 * r**(-m)\n",
    "    SA = -4 * eps * r**(-n)\n",
    "    LR = A * np.exp(-(r - 1) / l_debye)\n",
    "    return SR + SA + LR"
   ]
  },
  {
   "cell_type": "code",
   "execution_count": null,
   "metadata": {
    "collapsed": true
   },
   "outputs": [],
   "source": []
  },
  {
   "cell_type": "code",
   "execution_count": 5,
   "metadata": {
    "collapsed": true
   },
   "outputs": [],
   "source": [
    "def pot(r, Z):\n",
    "    d = 40 * u.nanometer\n",
    "    NaCl_wt_perc = 1\n",
    "    eps = 2.46345\n",
    "    m = 50\n",
    "    n = 18\n",
    "    A, l_debye = LR_parameters(colloid_diameter=d,  NaCl_wt_perc=NaCl_wt_perc, Z=Z)\n",
    "    return SALR(r=r, eps=eps, m=m, n=n, A=A, l_debye=l_debye)"
   ]
  },
  {
   "cell_type": "code",
   "execution_count": 21,
   "metadata": {
    "collapsed": false
   },
   "outputs": [
    {
     "data": {
      "image/png": "[encoded data removed]",
      "text/plain": [
       "<matplotlib.figure.Figure at 0x11c06c320>"
      ]
     },
     "metadata": {},
     "output_type": "display_data"
    }
   ],
   "source": [
    "import pyoz as oz\n",
    "foo = oz.System()\n",
    "r = foo.r\n",
    "\n",
    "\n",
    "U = pot(r, 1e4)\n",
    "plt.plot(r, U, label='Z = 1e4')\n",
    "\n",
    "U = pot(r, 5e4)\n",
    "plt.plot(r, U, label='Z = 5e4')\n",
    "plt.xlim(0.5, 3)\n",
    "plt.ylim(0.1, 200)\n",
    "plt.yscale('log')\n",
    "# plt.xscale('log')\n",
    "plt.legend()\n",
    "plt.xlabel('r, distance', fontsize=20)\n",
    "plt.ylabel('U(r), energy', fontsize=20)\n",
    "plt.savefig('salr_pot.pdf', bbox_inches='tight')"
   ]
  },
  {
   "cell_type": "code",
   "execution_count": 7,
   "metadata": {
    "collapsed": false
   },
   "outputs": [
    {
     "data": {
      "text/plain": [
       "-7.1604312110215231e-17"
      ]
     },
     "execution_count": 7,
     "metadata": {},
     "output_type": "execute_result"
    }
   ],
   "source": [
    "U.min()"
   ]
  },
  {
   "cell_type": "code",
   "execution_count": 8,
   "metadata": {
    "collapsed": false
   },
   "outputs": [
    {
     "data": {
      "text/plain": [
       "(4095,)"
      ]
     },
     "execution_count": 8,
     "metadata": {},
     "output_type": "execute_result"
    }
   ],
   "source": [
    "r.shape"
   ]
  },
  {
   "cell_type": "code",
   "execution_count": 9,
   "metadata": {
    "collapsed": false
   },
   "outputs": [
    {
     "data": {
      "text/plain": [
       "array([  4.00000000e+100,   3.57447602e+085,   5.61737694e+076, ...,\n",
       "        -9.52273194e-029,  -9.48095037e-029,  -9.43936226e-029])"
      ]
     },
     "execution_count": 9,
     "metadata": {},
     "output_type": "execute_result"
    }
   ],
   "source": [
    "pot(r, 1e4)"
   ]
  },
  {
   "cell_type": "code",
   "execution_count": 10,
   "metadata": {
    "collapsed": false,
    "scrolled": true
   },
   "outputs": [
    {
     "data": {
      "image/png": "[encoded data removed]",
      "text/plain": [
       "<matplotlib.figure.Figure at 0x10ac6e9e8>"
      ]
     },
     "metadata": {},
     "output_type": "display_data"
    }
   ],
   "source": [
    "%matplotlib inline\n",
    "plt.plot(r, oz.dpd(r, 10), label=r'$U(r) = \\frac{a}{2}(1-r)^2$        $r < 0$')\n",
    "\n",
    "plt.legend(fontsize=15)\n",
    "plt.xlabel('r, distance', fontsize=20)\n",
    "plt.ylabel('U(r), energy', fontsize=20)\n",
    "plt.xlim(0, 1.5)\n",
    "plt.ylim(0, 5)\n",
    "plt.savefig('dpd.pdf', bbox_inches='tight')"
   ]
  },
  {
   "cell_type": "code",
   "execution_count": null,
   "metadata": {
    "collapsed": true
   },
   "outputs": [],
   "source": []
  }
 ],
 "metadata": {
  "anaconda-cloud": {},
  "kernelspec": {
   "display_name": "Python 3",
   "language": "python",
   "name": "python3"
  },
  "language_info": {
   "codemirror_mode": {
    "name": "ipython",
    "version": 3
   },
   "file_extension": ".py",
   "mimetype": "text/x-python",
   "name": "python",
   "nbconvert_exporter": "python",
   "pygments_lexer": "ipython3",
   "version": "3.4.5"
  }
 },
 "nbformat": 4,
 "nbformat_minor": 1
}
