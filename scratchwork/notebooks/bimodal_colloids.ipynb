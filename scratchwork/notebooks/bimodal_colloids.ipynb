{
 "cells": [
  {
   "cell_type": "code",
   "execution_count": null,
   "metadata": {
    "collapsed": false
   },
   "outputs": [],
   "source": [
    "import itertools as it\n",
    "\n",
    "import matplotlib.pyplot as plt\n",
    "import numpy as np\n",
    "import seaborn as sns\n",
    "import pandas as pd\n",
    "\n",
    "import pyoz as oz\n",
    "\n",
    "sns.set_style('whitegrid', {'xtick.major.size': 5,\n",
    "                            'xtick.labelsize': 'large',\n",
    "                            'ytick.major.size': 5,\n",
    "                            'ytick.labelsize': 'large',\n",
    "                            'axes.edgecolor': 'k',\n",
    "                            'font.weight': 'bold',\n",
    "                            'axes.labelsize': 'large',\n",
    "})\n",
    "params = {'mathtext.default': 'regular' }\n",
    "plt.rcParams.update(params)\n",
    "plt.style.use('seaborn-colorblind')\n",
    "\n",
    "%matplotlib inline"
   ]
  },
  {
   "cell_type": "code",
   "execution_count": null,
   "metadata": {
    "collapsed": false
   },
   "outputs": [],
   "source": [
    "rhos = np.arange(0.01, 0.03, 0.002)\n",
    "\n",
    "# rho_ds = np.arange(0.0, 5, 0.5)\n",
    "rho_ds = np.arange(3.24, 4.5, 0.01)\n",
    "# rho_ds = [0]\n",
    "\n",
    "sig_c = 3.0\n",
    "sig_d = 0.5\n",
    "\n",
    "converged = pd.DataFrame(index=rho_ds, columns=rhos)\n",
    "converged.index.name = r'$\\rho_{depl}$'\n",
    "converged.columns.name = r'$\\rho$'\n",
    "\n",
    "print(len(rhos) * len(rho_ds))\n",
    "for rho, rho_d in it.product(rhos, rho_ds):\n",
    "    soft = oz.System()\n",
    "    U = oz.soft_depletion(soft.r, eps=1, n=36, sig_c=sig_c, sig_d=sig_d, rho_d=rho_d)\n",
    "    soft.set_interaction(0, 0, U)\n",
    "\n",
    "    g_r, _, _, _ = soft.solve(rhos=rho, closure_name='kh', max_iter=1000)\n",
    "\n",
    "    if np.isnan(g_r).all():\n",
    "        converged.set_value(rho_d, rho, 0.0)\n",
    "    else:\n",
    "        converged.set_value(rho_d, rho, 1.0)"
   ]
  },
  {
   "cell_type": "code",
   "execution_count": null,
   "metadata": {
    "collapsed": false
   },
   "outputs": [],
   "source": [
    "converged = converged[converged.columns].astype(float) \n",
    "ax = sns.heatmap(converged, vmin=0, vmax=1, cbar=False, yticklabels=10)\n",
    "ax.invert_yaxis()"
   ]
  },
  {
   "cell_type": "code",
   "execution_count": null,
   "metadata": {
    "collapsed": false
   },
   "outputs": [],
   "source": [
    "converged.idxmax(axis=0)"
   ]
  },
  {
   "cell_type": "code",
   "execution_count": null,
   "metadata": {
    "collapsed": false
   },
   "outputs": [],
   "source": [
    "converged[3.2:4.5]"
   ]
  },
  {
   "cell_type": "code",
   "execution_count": null,
   "metadata": {
    "collapsed": false,
    "scrolled": true
   },
   "outputs": [],
   "source": [
    "rho_2 = np.arange(0.01, 0.12, 0.01)\n",
    "y2 = [9.9, 6.9, 6.0, 5.6, 5.1, 5.1, 5.2, 5.4, 5.5, 5.9, 9.9]\n",
    "\n",
    "rho_3 = np.arange(0.008, 0.032, 0.002)\n",
    "y3 = [5.5, 4.18, 3.95, 3.75, 3.72, 3.7, 3.67, 3.64, 3.63, 3.64, 4.4, 5.7]\n",
    "print(len(rho_3), len(y3))"
   ]
  },
  {
   "cell_type": "code",
   "execution_count": null,
   "metadata": {
    "collapsed": false
   },
   "outputs": [],
   "source": [
    "plt.plot(rho_2 * 2**3, y2, label=r'$\\sigma_{coll} = 2.0$')\n",
    "plt.plot(rho_3 * 3**3, y3, label=r'$\\sigma_{coll} = 3.0$')\n",
    "plt.xlabel(r'$\\rho * \\sigma_{coll}^3$')\n",
    "plt.ylabel(r'$\\rho_{depl}$')\n",
    "plt.legend(loc='upper center')\n",
    "plt.savefig('big_small.pdf', bbox_inches='tight')"
   ]
  },
  {
   "cell_type": "code",
   "execution_count": null,
   "metadata": {
    "collapsed": true
   },
   "outputs": [],
   "source": []
  }
 ],
 "metadata": {
  "anaconda-cloud": {},
  "kernelspec": {
   "display_name": "Python [conda env:pyoz]",
   "language": "python",
   "name": "conda-env-pyoz-py"
  },
  "language_info": {
   "codemirror_mode": {
    "name": "ipython",
    "version": 3
   },
   "file_extension": ".py",
   "mimetype": "text/x-python",
   "name": "python",
   "nbconvert_exporter": "python",
   "pygments_lexer": "ipython3",
   "version": "3.5.2"
  }
 },
 "nbformat": 4,
 "nbformat_minor": 1
}
