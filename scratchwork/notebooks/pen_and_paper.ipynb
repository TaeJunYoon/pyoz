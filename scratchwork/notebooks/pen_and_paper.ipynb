{
 "cells": [
  {
   "cell_type": "code",
   "execution_count": 25,
   "metadata": {
    "collapsed": true
   },
   "outputs": [],
   "source": [
    "import matplotlib.pyplot as plt\n",
    "import numpy as np\n",
    "import seaborn as sns\n",
    "\n",
    "import pyoz as oz\n",
    "\n",
    "sns.set_style('whitegrid', {'xtick.major.size': 0,\n",
    "                            'xtick.labelsize': 'large',\n",
    "                            'ytick.major.size': 0,\n",
    "                            'ytick.labelsize': 'large',\n",
    "                            'axes.edgecolor': 'k',\n",
    "                            'font.weight': 'bold',\n",
    "                            'axes.labelsize': 'large',\n",
    "})\n",
    "params = {'mathtext.default': 'regular' }\n",
    "plt.rcParams.update(params)\n",
    "plt.style.use('seaborn-colorblind')\n",
    "\n",
    "%matplotlib inline\n"
   ]
  },
  {
   "cell_type": "code",
   "execution_count": 34,
   "metadata": {
    "collapsed": false
   },
   "outputs": [
    {
     "data": {
      "image/png": "[encoded data removed]",
      "text/plain": [
       "<matplotlib.figure.Figure at 0x1136373c8>"
      ]
     },
     "metadata": {},
     "output_type": "display_data"
    }
   ],
   "source": [
    "x = np.arange(-2, 2, 0.01)\n",
    "y = x**2 + 1.1\n",
    "y2 = x**2 + 0.8 \n",
    "\n",
    "fig, ax = plt.subplots()\n",
    "\n",
    "plt.plot(x, y, label='smaller colloid')\n",
    "# plt.plot(x, y2, label='bigger colloid')\n",
    "\n",
    "\n",
    "plt.xlabel(r'$\\rho$', fontsize=20)\n",
    "plt.ylabel(r'$\\epsilon$', fontsize=20)\n",
    "\n",
    "# plt.legend(loc='upper center')\n",
    "plt.xlim(-1.5, 1.5)\n",
    "plt.ylim(0.7, 2)\n",
    "ax.set_xticklabels([])\n",
    "ax.set_yticklabels([])\n",
    "plt.savefig('colloids.pdf', bbox_inches='tight')"
   ]
  },
  {
   "cell_type": "code",
   "execution_count": null,
   "metadata": {
    "collapsed": true
   },
   "outputs": [],
   "source": []
  },
  {
   "cell_type": "code",
   "execution_count": null,
   "metadata": {
    "collapsed": true
   },
   "outputs": [],
   "source": []
  },
  {
   "cell_type": "code",
   "execution_count": null,
   "metadata": {
    "collapsed": true
   },
   "outputs": [],
   "source": []
  }
 ],
 "metadata": {
  "anaconda-cloud": {},
  "kernelspec": {
   "display_name": "Python [conda env:pyoz]",
   "language": "python",
   "name": "conda-env-pyoz-py"
  },
  "language_info": {
   "codemirror_mode": {
    "name": "ipython",
    "version": 3
   },
   "file_extension": ".py",
   "mimetype": "text/x-python",
   "name": "python",
   "nbconvert_exporter": "python",
   "pygments_lexer": "ipython3",
   "version": "3.5.2"
  }
 },
 "nbformat": 4,
 "nbformat_minor": 1
}
